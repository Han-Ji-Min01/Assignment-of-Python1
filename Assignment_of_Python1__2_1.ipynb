{
  "nbformat": 4,
  "nbformat_minor": 0,
  "metadata": {
    "colab": {
      "name": "Assignment_of_Python1__2-1.ipynb",
      "provenance": [],
      "collapsed_sections": [],
      "authorship_tag": "ABX9TyNfVdI9XOExFdqwRihWEcHq",
      "include_colab_link": true
    },
    "kernelspec": {
      "name": "python3",
      "display_name": "Python 3"
    }
  },
  "cells": [
    {
      "cell_type": "markdown",
      "metadata": {
        "id": "view-in-github",
        "colab_type": "text"
      },
      "source": [
        "<a href=\"https://colab.research.google.com/github/Han-Ji-Min01/Assignment-of-Python1/blob/master/Assignment_of_Python1__2_1.ipynb\" target=\"_parent\"><img src=\"https://colab.research.google.com/assets/colab-badge.svg\" alt=\"Open In Colab\"/></a>"
      ]
    },
    {
      "cell_type": "code",
      "metadata": {
        "id": "ZatQ3aYUjf6l",
        "colab_type": "code",
        "outputId": "827bb24c-a232-4824-9d8a-8a0ce94d7c65",
        "colab": {
          "base_uri": "https://localhost:8080/",
          "height": 1000
        }
      },
      "source": [
        "#Assignment_1\n",
        "\n",
        "x = 3\n",
        "\n",
        "for i in range(100):\n",
        "  y = x**2 +1 # optimal minimum is (x = 0, y =1)\n",
        "  y_prime = 2*x #I used the hot-coding \n",
        "\n",
        "  if True:\n",
        "    x = x - y/y_prime \n",
        "    \n",
        "  if (y < 1.1): \n",
        "    print(\"The Optimal Solution of X is \", x, \"and y is at X is \", y, \"and we found the solution\")\n",
        "  else: print (\"in\", i, \"th time we could not reach to the optimal\")"
      ],
      "execution_count": 0,
      "outputs": [
        {
          "output_type": "stream",
          "text": [
            "in 0 th time we could not reach to the optimal\n",
            "in 1 th time we could not reach to the optimal\n",
            "The Optimal Solution of X is  -1.568452380952382 and y is at X is  1.0850694444444444 and we found the solution\n",
            "in 3 th time we could not reach to the optimal\n",
            "in 4 th time we could not reach to the optimal\n",
            "in 5 th time we could not reach to the optimal\n",
            "The Optimal Solution of X is  2.7969749740685312 and y is at X is  1.0300641461766094 and we found the solution\n",
            "in 7 th time we could not reach to the optimal\n",
            "in 8 th time we could not reach to the optimal\n",
            "The Optimal Solution of X is  -2.4008803928473146 and y is at X is  1.0399729243897988 and we found the solution\n",
            "in 10 th time we could not reach to the optimal\n",
            "in 11 th time we could not reach to the optimal\n",
            "The Optimal Solution of X is  -63.710364163935466 and y is at X is  1.0000615837798255 and we found the solution\n",
            "in 13 th time we could not reach to the optimal\n",
            "in 14 th time we could not reach to the optimal\n",
            "in 15 th time we could not reach to the optimal\n",
            "in 16 th time we could not reach to the optimal\n",
            "in 17 th time we could not reach to the optimal\n",
            "in 18 th time we could not reach to the optimal\n",
            "in 19 th time we could not reach to the optimal\n",
            "in 20 th time we could not reach to the optimal\n",
            "in 21 th time we could not reach to the optimal\n",
            "The Optimal Solution of X is  -2.6291388960628854 and y is at X is  1.0337658519635904 and we found the solution\n",
            "in 23 th time we could not reach to the optimal\n",
            "in 24 th time we could not reach to the optimal\n",
            "The Optimal Solution of X is  4.196120360561235 and y is at X is  1.0138091229454715 and we found the solution\n",
            "in 26 th time we could not reach to the optimal\n",
            "in 27 th time we could not reach to the optimal\n",
            "in 28 th time we could not reach to the optimal\n",
            "The Optimal Solution of X is  1.456591400165547 and y is at X is  1.0962427664962957 and we found the solution\n",
            "in 30 th time we could not reach to the optimal\n",
            "in 31 th time we could not reach to the optimal\n",
            "in 32 th time we could not reach to the optimal\n",
            "The Optimal Solution of X is  4.8998500569031425 and y is at X is  1.0102015915356481 and we found the solution\n",
            "in 34 th time we could not reach to the optimal\n",
            "in 35 th time we could not reach to the optimal\n",
            "in 36 th time we could not reach to the optimal\n",
            "The Optimal Solution of X is  12.539906871931379 and y is at X is  1.0015847974246677 and we found the solution\n",
            "in 38 th time we could not reach to the optimal\n",
            "in 39 th time we could not reach to the optimal\n",
            "in 40 th time we could not reach to the optimal\n",
            "in 41 th time we could not reach to the optimal\n",
            "The Optimal Solution of X is  -1.4770857495730534 and y is at X is  1.094046099915404 and we found the solution\n",
            "in 43 th time we could not reach to the optimal\n",
            "in 44 th time we could not reach to the optimal\n",
            "in 45 th time we could not reach to the optimal\n",
            "The Optimal Solution of X is  -10.247563260050976 and y is at X is  1.0023693996302183 and we found the solution\n",
            "in 47 th time we could not reach to the optimal\n",
            "in 48 th time we could not reach to the optimal\n",
            "in 49 th time we could not reach to the optimal\n",
            "in 50 th time we could not reach to the optimal\n",
            "The Optimal Solution of X is  34.76703525975596 and y is at X is  1.000206740280755 and we found the solution\n",
            "in 52 th time we could not reach to the optimal\n",
            "in 53 th time we could not reach to the optimal\n",
            "in 54 th time we could not reach to the optimal\n",
            "in 55 th time we could not reach to the optimal\n",
            "in 56 th time we could not reach to the optimal\n",
            "in 57 th time we could not reach to the optimal\n",
            "The Optimal Solution of X is  1.6718864138667267 and y is at X is  1.076309623273322 and we found the solution\n",
            "in 59 th time we could not reach to the optimal\n",
            "in 60 th time we could not reach to the optimal\n",
            "in 61 th time we could not reach to the optimal\n",
            "in 62 th time we could not reach to the optimal\n",
            "in 63 th time we could not reach to the optimal\n",
            "The Optimal Solution of X is  -16.95927019397912 and y is at X is  1.0008677041697545 and we found the solution\n",
            "in 65 th time we could not reach to the optimal\n",
            "in 66 th time we could not reach to the optimal\n",
            "in 67 th time we could not reach to the optimal\n",
            "in 68 th time we could not reach to the optimal\n",
            "in 69 th time we could not reach to the optimal\n",
            "in 70 th time we could not reach to the optimal\n",
            "in 71 th time we could not reach to the optimal\n",
            "in 72 th time we could not reach to the optimal\n",
            "in 73 th time we could not reach to the optimal\n",
            "in 74 th time we could not reach to the optimal\n",
            "in 75 th time we could not reach to the optimal\n",
            "in 76 th time we could not reach to the optimal\n",
            "in 77 th time we could not reach to the optimal\n",
            "The Optimal Solution of X is  -1.8610902917352752 and y is at X is  1.063325999415418 and we found the solution\n",
            "in 79 th time we could not reach to the optimal\n",
            "in 80 th time we could not reach to the optimal\n",
            "in 81 th time we could not reach to the optimal\n",
            "in 82 th time we could not reach to the optimal\n",
            "The Optimal Solution of X is  -14.300352752720363 and y is at X is  1.0012195134802282 and we found the solution\n",
            "in 84 th time we could not reach to the optimal\n",
            "in 85 th time we could not reach to the optimal\n",
            "in 86 th time we could not reach to the optimal\n",
            "in 87 th time we could not reach to the optimal\n",
            "in 88 th time we could not reach to the optimal\n",
            "in 89 th time we could not reach to the optimal\n",
            "The Optimal Solution of X is  1.8816127485148755 and y is at X is  1.062112752652038 and we found the solution\n",
            "in 91 th time we could not reach to the optimal\n",
            "in 92 th time we could not reach to the optimal\n",
            "in 93 th time we could not reach to the optimal\n",
            "in 94 th time we could not reach to the optimal\n",
            "The Optimal Solution of X is  -13.121848414260246 and y is at X is  1.0014477433236493 and we found the solution\n",
            "in 96 th time we could not reach to the optimal\n",
            "in 97 th time we could not reach to the optimal\n",
            "in 98 th time we could not reach to the optimal\n",
            "in 99 th time we could not reach to the optimal\n"
          ],
          "name": "stdout"
        }
      ]
    },
    {
      "cell_type": "code",
      "metadata": {
        "id": "5ZqMylSakPqe",
        "colab_type": "code",
        "colab": {}
      },
      "source": [
        ""
      ],
      "execution_count": 0,
      "outputs": []
    }
  ]
}
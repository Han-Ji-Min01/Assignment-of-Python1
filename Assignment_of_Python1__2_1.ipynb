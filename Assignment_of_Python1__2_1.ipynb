{
  "nbformat": 4,
  "nbformat_minor": 0,
  "metadata": {
    "colab": {
      "name": "Assignment_of_Python1__2-1.ipynb",
      "provenance": [],
      "collapsed_sections": [],
      "authorship_tag": "ABX9TyN2WkWPuSLfvQk9QZb6jBk8",
      "include_colab_link": true
    },
    "kernelspec": {
      "name": "python3",
      "display_name": "Python 3"
    }
  },
  "cells": [
    {
      "cell_type": "markdown",
      "metadata": {
        "id": "view-in-github",
        "colab_type": "text"
      },
      "source": [
        "<a href=\"https://colab.research.google.com/github/Han-Ji-Min01/Assignment-of-Python1/blob/master/Assignment_of_Python1__2_1.ipynb\" target=\"_parent\"><img src=\"https://colab.research.google.com/assets/colab-badge.svg\" alt=\"Open In Colab\"/></a>"
      ]
    },
    {
      "cell_type": "code",
      "metadata": {
        "id": "ZatQ3aYUjf6l",
        "colab_type": "code",
        "outputId": "82398a5f-0f11-4bf1-c2f5-f7f93770a6d7",
        "colab": {
          "base_uri": "https://localhost:8080/",
          "height": 1000
        }
      },
      "source": [
        "#Assignment_1\n",
        "\n",
        "x = 3\n",
        "\n",
        "for i in range(100):\n",
        "  \n",
        "  if True:\n",
        "    x = x - y/y_prime \n",
        "    y = x**2 +1\n",
        "    y_prime = 2*x \n",
        "  if (y < 1.1): \n",
        "    print(\"The Optimal Solution of X is \", x, \"and y  at X is \", y, \"and we found the solution\")\n",
        "  else: print (\"in\", i, \"th time we could not reach to the optimal\")"
      ],
      "execution_count": 8,
      "outputs": [
        {
          "output_type": "stream",
          "text": [
            "in 0 th time we could not reach to the optimal\n",
            "in 1 th time we could not reach to the optimal\n",
            "in 2 th time we could not reach to the optimal\n",
            "The Optimal Solution of X is  -0.16570617432807544 and y  at X is  1.0274585362104465 and we found the solution\n",
            "in 4 th time we could not reach to the optimal\n",
            "in 5 th time we could not reach to the optimal\n",
            "The Optimal Solution of X is  0.2629019529394978 and y  at X is  1.0691174368594019 and we found the solution\n",
            "in 7 th time we could not reach to the optimal\n",
            "in 8 th time we could not reach to the optimal\n",
            "in 9 th time we could not reach to the optimal\n",
            "in 10 th time we could not reach to the optimal\n",
            "in 11 th time we could not reach to the optimal\n",
            "in 12 th time we could not reach to the optimal\n",
            "The Optimal Solution of X is  -0.08009867120437764 and y  at X is  1.006415797128707 and we found the solution\n",
            "in 14 th time we could not reach to the optimal\n",
            "in 15 th time we could not reach to the optimal\n",
            "in 16 th time we could not reach to the optimal\n",
            "The Optimal Solution of X is  0.3005353491767835 and y  at X is  1.090321496104811 and we found the solution\n",
            "in 18 th time we could not reach to the optimal\n",
            "in 19 th time we could not reach to the optimal\n",
            "in 20 th time we could not reach to the optimal\n",
            "The Optimal Solution of X is  -0.04124645714652564 and y  at X is  1.0017012702271402 and we found the solution\n",
            "in 22 th time we could not reach to the optimal\n",
            "in 23 th time we could not reach to the optimal\n",
            "in 24 th time we could not reach to the optimal\n",
            "in 25 th time we could not reach to the optimal\n",
            "The Optimal Solution of X is  0.2571081635147523 and y  at X is  1.0661046077459286 and we found the solution\n",
            "in 27 th time we could not reach to the optimal\n",
            "in 28 th time we could not reach to the optimal\n",
            "in 29 th time we could not reach to the optimal\n",
            "in 30 th time we could not reach to the optimal\n",
            "The Optimal Solution of X is  0.2017275510544163 and y  at X is  1.0406940048544122 and we found the solution\n",
            "in 32 th time we could not reach to the optimal\n",
            "in 33 th time we could not reach to the optimal\n",
            "The Optimal Solution of X is  0.021655965142083566 and y  at X is  1.000468980826235 and we found the solution\n",
            "in 35 th time we could not reach to the optimal\n",
            "in 36 th time we could not reach to the optimal\n",
            "in 37 th time we could not reach to the optimal\n",
            "in 38 th time we could not reach to the optimal\n",
            "in 39 th time we could not reach to the optimal\n",
            "The Optimal Solution of X is  -0.18717209547517366 and y  at X is  1.0350333933245675 and we found the solution\n",
            "in 41 th time we could not reach to the optimal\n",
            "in 42 th time we could not reach to the optimal\n",
            "The Optimal Solution of X is  0.09079529453320911 and y  at X is  1.0082437855093722 and we found the solution\n",
            "in 44 th time we could not reach to the optimal\n",
            "in 45 th time we could not reach to the optimal\n",
            "in 46 th time we could not reach to the optimal\n",
            "The Optimal Solution of X is  -0.12265353733133821 and y  at X is  1.01504389021989 and we found the solution\n",
            "in 48 th time we could not reach to the optimal\n",
            "in 49 th time we could not reach to the optimal\n",
            "in 50 th time we could not reach to the optimal\n",
            "in 51 th time we could not reach to the optimal\n",
            "in 52 th time we could not reach to the optimal\n",
            "The Optimal Solution of X is  0.04319451537003993 and y  at X is  1.0018657661580526 and we found the solution\n",
            "in 54 th time we could not reach to the optimal\n",
            "in 55 th time we could not reach to the optimal\n",
            "in 56 th time we could not reach to the optimal\n",
            "in 57 th time we could not reach to the optimal\n",
            "The Optimal Solution of X is  -0.19172934827581645 and y  at X is  1.0367601429902693 and we found the solution\n",
            "in 59 th time we could not reach to the optimal\n",
            "in 60 th time we could not reach to the optimal\n",
            "The Optimal Solution of X is  0.05540884848773975 and y  at X is  1.0030701404907374 and we found the solution\n",
            "in 62 th time we could not reach to the optimal\n",
            "in 63 th time we could not reach to the optimal\n",
            "in 64 th time we could not reach to the optimal\n",
            "in 65 th time we could not reach to the optimal\n",
            "The Optimal Solution of X is  0.20320524914814175 and y  at X is  1.0412923732813584 and we found the solution\n",
            "in 67 th time we could not reach to the optimal\n",
            "in 68 th time we could not reach to the optimal\n",
            "The Optimal Solution of X is  0.033020642106180054 and y  at X is  1.0010903628051044 and we found the solution\n",
            "in 70 th time we could not reach to the optimal\n",
            "in 71 th time we could not reach to the optimal\n",
            "in 72 th time we could not reach to the optimal\n",
            "in 73 th time we could not reach to the optimal\n",
            "in 74 th time we could not reach to the optimal\n",
            "in 75 th time we could not reach to the optimal\n",
            "in 76 th time we could not reach to the optimal\n",
            "in 77 th time we could not reach to the optimal\n",
            "in 78 th time we could not reach to the optimal\n",
            "in 79 th time we could not reach to the optimal\n",
            "The Optimal Solution of X is  0.05753334482751837 and y  at X is  1.003310085767042 and we found the solution\n",
            "in 81 th time we could not reach to the optimal\n",
            "in 82 th time we could not reach to the optimal\n",
            "in 83 th time we could not reach to the optimal\n",
            "in 84 th time we could not reach to the optimal\n",
            "The Optimal Solution of X is  0.2748678729616265 and y  at X is  1.0755523475864488 and we found the solution\n",
            "in 86 th time we could not reach to the optimal\n",
            "in 87 th time we could not reach to the optimal\n",
            "in 88 th time we could not reach to the optimal\n",
            "in 89 th time we could not reach to the optimal\n",
            "in 90 th time we could not reach to the optimal\n",
            "The Optimal Solution of X is  -0.11164438361134166 and y  at X is  1.0124644683919564 and we found the solution\n",
            "in 92 th time we could not reach to the optimal\n",
            "in 93 th time we could not reach to the optimal\n",
            "in 94 th time we could not reach to the optimal\n",
            "The Optimal Solution of X is  -0.21120605158986394 and y  at X is  1.0446079962281802 and we found the solution\n",
            "in 96 th time we could not reach to the optimal\n",
            "in 97 th time we could not reach to the optimal\n",
            "The Optimal Solution of X is  -0.09466110484229517 and y  at X is  1.008960724769964 and we found the solution\n",
            "in 99 th time we could not reach to the optimal\n"
          ],
          "name": "stdout"
        }
      ]
    },
    {
      "cell_type": "code",
      "metadata": {
        "id": "5ZqMylSakPqe",
        "colab_type": "code",
        "colab": {}
      },
      "source": [
        ""
      ],
      "execution_count": 0,
      "outputs": []
    }
  ]
}
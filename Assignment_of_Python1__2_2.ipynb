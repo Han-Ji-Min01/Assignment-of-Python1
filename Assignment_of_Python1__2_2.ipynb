{
  "nbformat": 4,
  "nbformat_minor": 0,
  "metadata": {
    "colab": {
      "name": "Assignment_of_Python1__2_2.ipynb",
      "provenance": [],
      "collapsed_sections": [],
      "authorship_tag": "ABX9TyMBpjn3G8B7b9ml/xq2UGge",
      "include_colab_link": true
    },
    "kernelspec": {
      "name": "python3",
      "display_name": "Python 3"
    }
  },
  "cells": [
    {
      "cell_type": "markdown",
      "metadata": {
        "id": "view-in-github",
        "colab_type": "text"
      },
      "source": [
        "<a href=\"https://colab.research.google.com/github/Han-Ji-Min01/Assignment-of-Python1/blob/master/Assignment_of_Python1__2_2.ipynb\" target=\"_parent\"><img src=\"https://colab.research.google.com/assets/colab-badge.svg\" alt=\"Open In Colab\"/></a>"
      ]
    },
    {
      "cell_type": "code",
      "metadata": {
        "id": "DFAQS5S7DidW",
        "colab_type": "code",
        "colab": {}
      },
      "source": [
        "#Assignment_1\n",
        "\n",
        "import matplotlib.pyplot as plt\n",
        "%matplotlib inline \n",
        "\n",
        "class rectangle(object):\n",
        "  def __init__ (self, width, height, color):\n",
        "    self.width = width\n",
        "    self.height = height\n",
        "    self.color = color\n",
        "  \n",
        "  def add_width(self,a_w):\n",
        "    self.width = self.width + a_w\n",
        "    return (self.width)\n",
        "\n",
        "  def add_height (self, a_h):\n",
        "    self.height = self.height + a_h\n",
        "    return (self.height)\n",
        "\n",
        "  def add_color (self, a_c):\n",
        "    self.color = self.color + a_c\n",
        "    return (self.color)\n",
        "\n",
        "  def Draw_rec(self):\n",
        "    plt.gca().add_patch(plt.Rectangle((0,0), self.width, self.height, fc =self.color))\n",
        "    plt.axis('scaled')\n",
        "    plt.show()"
      ],
      "execution_count": 0,
      "outputs": []
    },
    {
      "cell_type": "code",
      "metadata": {
        "id": "vNLZmlFOH3-n",
        "colab_type": "code",
        "outputId": "f1d94d17-7d33-43e7-fa86-42e6cece67c4",
        "colab": {
          "base_uri": "https://localhost:8080/",
          "height": 265
        }
      },
      "source": [
        "rectangle(3,4,'purple').Draw_rec()"
      ],
      "execution_count": 279,
      "outputs": [
        {
          "output_type": "display_data",
          "data": {
            "image/png": "[encoded data removed]",
            "text/plain": [
              "<Figure size 432x288 with 1 Axes>"
            ]
          },
          "metadata": {
            "tags": [],
            "needs_background": "light"
          }
        }
      ]
    },
    {
      "cell_type": "code",
      "metadata": {
        "id": "qm4obC_cipZ4",
        "colab_type": "code",
        "colab": {}
      },
      "source": [
        "# Assignment_2\n",
        "f=open(\"file_1.txt\",'w')\n",
        "f.write(\"3 \\n\")\n",
        "f.write('Red \\n')\n",
        "f.write(\"20 \\n\")\n",
        "f.write(\"Purple\")\n",
        "f.close()\n",
        "#file_1==>[radius & Colour]\n"
      ],
      "execution_count": 0,
      "outputs": []
    },
    {
      "cell_type": "code",
      "metadata": {
        "id": "s73QVTTmkwp9",
        "colab_type": "code",
        "outputId": "c385dced-3c5d-413f-fbc8-2f8ac6268c43",
        "colab": {
          "base_uri": "https://localhost:8080/",
          "height": 36
        }
      },
      "source": [
        "with open('file_1.txt') as data:\n",
        "  lines=data.readlines()\n",
        "  print(lines)"
      ],
      "execution_count": 281,
      "outputs": [
        {
          "output_type": "stream",
          "text": [
            "['3 \\n', 'Red \\n', '20 \\n', 'Purple']\n"
          ],
          "name": "stdout"
        }
      ]
    },
    {
      "cell_type": "code",
      "metadata": {
        "id": "yjsUzLEIE60T",
        "colab_type": "code",
        "colab": {}
      },
      "source": [
        "# to delete \\n, I searched on Internet below code...\n",
        "line_=[line.rstrip() for line in lines]"
      ],
      "execution_count": 0,
      "outputs": []
    },
    {
      "cell_type": "code",
      "metadata": {
        "id": "YFELON3cb0qH",
        "colab_type": "code",
        "outputId": "5b581a73-d9b5-423d-e3ad-e4b049d52517",
        "colab": {
          "base_uri": "https://localhost:8080/",
          "height": 36
        }
      },
      "source": [
        "print(line_)"
      ],
      "execution_count": 283,
      "outputs": [
        {
          "output_type": "stream",
          "text": [
            "['3', 'Red', '20', 'Purple']\n"
          ],
          "name": "stdout"
        }
      ]
    },
    {
      "cell_type": "code",
      "metadata": {
        "id": "i4bLHoDPPhCK",
        "colab_type": "code",
        "colab": {}
      },
      "source": [
        "import matplotlib.pyplot as plt\n",
        "%matplotlib inline \n",
        "\n",
        "\n",
        "class Circle(object):\n",
        "  def __init__(self,radius,color):\n",
        "    self.radius=radius\n",
        "    self.color=color\n",
        "  \n",
        "  def DrawCircle(self):\n",
        "    plt.gca().add_patch(plt.Circle((0,0), radius =self.radius, fc=self.color))\n",
        "    plt.axis('scaled')\n",
        "    plt.show()\n"
      ],
      "execution_count": 0,
      "outputs": []
    },
    {
      "cell_type": "code",
      "metadata": {
        "id": "JOmFotwBaXO5",
        "colab_type": "code",
        "outputId": "044c19a0-7853-4268-a5e9-ee722659ae1b",
        "colab": {
          "base_uri": "https://localhost:8080/",
          "height": 513
        }
      },
      "source": [
        "line_[0]=int(line_[0])\n",
        "line_[1]=str(line_[1])\n",
        "line_[2]=int(line_[2])\n",
        "line_[3]=str(line_[3])\n",
        "A_Circle = Circle(line_[0],line_[1])\n",
        "A_Circle.DrawCircle()\n",
        "B_Circle = Circle(line_[2],line_[3])\n",
        "B_Circle.DrawCircle()\n",
        "\n",
        "\n"
      ],
      "execution_count": 285,
      "outputs": [
        {
          "output_type": "display_data",
          "data": {
            "image/png": "[encoded data removed]",
            "text/plain": [
              "<Figure size 432x288 with 1 Axes>"
            ]
          },
          "metadata": {
            "tags": [],
            "needs_background": "light"
          }
        },
        {
          "output_type": "display_data",
          "data": {
            "image/png": "[encoded data removed]",
            "text/plain": [
              "<Figure size 432x288 with 1 Axes>"
            ]
          },
          "metadata": {
            "tags": [],
            "needs_background": "light"
          }
        }
      ]
    },
    {
      "cell_type": "code",
      "metadata": {
        "id": "UUxxNgrvtAFT",
        "colab_type": "code",
        "colab": {}
      },
      "source": [
        "file_2=open('file_2.txt','w')\n",
        "file_2.write('3 5 Red \\n')\n",
        "file_2.write('7 3 Purple \\n')\n",
        "file_2.write('6 6 Black \\n')\n",
        "f.close()"
      ],
      "execution_count": 0,
      "outputs": []
    },
    {
      "cell_type": "code",
      "metadata": {
        "id": "xebSIQAdvS7N",
        "colab_type": "code",
        "outputId": "22b0d82d-3a2d-45de-b8dd-959bc8793cfa",
        "colab": {
          "base_uri": "https://localhost:8080/",
          "height": 36
        }
      },
      "source": [
        "with open('file_2.txt') as data:\n",
        "  L=data.readlines()\n",
        "  print(L)"
      ],
      "execution_count": 289,
      "outputs": [
        {
          "output_type": "stream",
          "text": [
            "['3 5 Red \\n', '7 3 Purple \\n', '6 6 Black \\n']\n"
          ],
          "name": "stdout"
        }
      ]
    },
    {
      "cell_type": "code",
      "metadata": {
        "id": "bbY7rn7QvjAS",
        "colab_type": "code",
        "outputId": "5f771e17-2f00-471b-c819-6d4aa13deac1",
        "colab": {
          "base_uri": "https://localhost:8080/",
          "height": 36
        }
      },
      "source": [
        "# to delete \\n, I searched on Internet below code...\n",
        "L_=[line.rstrip() for line in L]\n",
        "print(L_)\n",
        "\n",
        "L_0 = L_[0]\n",
        "L_1 = L_[1]\n",
        "L_2 = L_[2]\n",
        "\n",
        "L_0 = str.split(L_0)\n",
        "L_1 = str.split(L_1)\n",
        "L_2 = str.split(L_2)\n"
      ],
      "execution_count": 291,
      "outputs": [
        {
          "output_type": "stream",
          "text": [
            "['3 5 Red', '7 3 Purple', '6 6 Black']\n"
          ],
          "name": "stdout"
        }
      ]
    },
    {
      "cell_type": "code",
      "metadata": {
        "id": "kotdnpN_wJ2Y",
        "colab_type": "code",
        "colab": {}
      },
      "source": [
        "import matplotlib.pyplot as plt\n",
        "%matplotlib inline \n",
        "\n",
        "class Rectangle(object):\n",
        "  def __init__ (self, width, height, color):\n",
        "    self.width = width\n",
        "    self.height = height\n",
        "    self.color = color\n",
        "  \n",
        "  def Drawrectangle(self):\n",
        "    plt.gca().add_patch(plt.Rectangle((0,0), self.width, self.height, fc =self.color))\n",
        "    plt.axis('scaled')\n",
        "    plt.show()"
      ],
      "execution_count": 0,
      "outputs": []
    },
    {
      "cell_type": "code",
      "metadata": {
        "id": "7a9EtbIPwT9m",
        "colab_type": "code",
        "outputId": "ec38c6e6-646f-4bfa-8951-4d2afbf3457f",
        "colab": {
          "base_uri": "https://localhost:8080/",
          "height": 687
        }
      },
      "source": [
        "L_0[0]=int(L_0[0])\n",
        "L_0[1]=int(L_0[1])\n",
        "L_0[2]=str(L_0[2])\n",
        "\n",
        "L_1[0]=int(L_1[0])\n",
        "L_1[1]=int(L_1[1])\n",
        "L_1[2]=str(L_1[2])\n",
        "\n",
        "L_2[0]=int(L_2[0])\n",
        "L_2[1]=int(L_2[1])\n",
        "L_2[2]=str(L_2[2])\n",
        "\n",
        "A_rec=Rectangle(L_0[0],L_0[1],L_0[2])\n",
        "B_rec=Rectangle(L_1[0],L_1[1],L_1[2])\n",
        "C_rec=Rectangle(L_2[0],L_2[1],L_2[2])\n",
        "\n",
        "A_rec.Drawrectangle()\n",
        "B_rec.Drawrectangle()\n",
        "C_rec.Drawrectangle()\n",
        "\n",
        "\n"
      ],
      "execution_count": 293,
      "outputs": [
        {
          "output_type": "display_data",
          "data": {
            "image/png": "[encoded data removed]",
            "text/plain": [
              "<Figure size 432x288 with 1 Axes>"
            ]
          },
          "metadata": {
            "tags": [],
            "needs_background": "light"
          }
        },
        {
          "output_type": "display_data",
          "data": {
            "image/png": "[encoded data removed]",
            "text/plain": [
              "<Figure size 432x288 with 1 Axes>"
            ]
          },
          "metadata": {
            "tags": [],
            "needs_background": "light"
          }
        },
        {
          "output_type": "display_data",
          "data": {
            "image/png": "[encoded data removed]",
            "text/plain": [
              "<Figure size 432x288 with 1 Axes>"
            ]
          },
          "metadata": {
            "tags": [],
            "needs_background": "light"
          }
        }
      ]
    },
    {
      "cell_type": "code",
      "metadata": {
        "id": "8osAbCMKxlN_",
        "colab_type": "code",
        "colab": {}
      },
      "source": [
        "#Assignment3\n",
        "import math \n",
        "%matplotlib inline \n",
        "\n",
        "class circle (object):\n",
        "  def __init__ (self,rad):\n",
        "    self.rad=rad\n",
        "  \n",
        "  def SoC(self):\n",
        "    rad=input()\n",
        "    rad=float(rad)\n",
        "    output= rad * rad * math.pi\n",
        "    print(output)\n",
        "\n"
      ],
      "execution_count": 0,
      "outputs": []
    },
    {
      "cell_type": "code",
      "metadata": {
        "id": "3sgITqSzXpvT",
        "colab_type": "code",
        "outputId": "20d6c6c6-80f9-4660-ad8d-ce64066bb71c",
        "colab": {
          "base_uri": "https://localhost:8080/",
          "height": 92
        }
      },
      "source": [
        "print('This program is to calculate size of Circle.')\n",
        "print('Enter radius  of the circle.')\n",
        "A2=circle(A1)\n",
        "A2.SoC()"
      ],
      "execution_count": 295,
      "outputs": [
        {
          "output_type": "stream",
          "text": [
            "This program is to calculate size of Circle.\n",
            "Enter radius  of the circle.\n",
            "5\n",
            "78.53981633974483\n"
          ],
          "name": "stdout"
        }
      ]
    },
    {
      "cell_type": "code",
      "metadata": {
        "id": "YbBUI9SgYtBt",
        "colab_type": "code",
        "colab": {}
      },
      "source": [
        "class rectangle(object):\n",
        "  def __init__ (self,width, height):\n",
        "    self.width=width\n",
        "    self.height=height\n",
        "  def SoR(self):\n",
        "    Ans=input()\n",
        "    Ans_=str.split(Ans)\n",
        "    width=Ans_[0]\n",
        "    width=float(width)\n",
        "    height=Ans_[1]\n",
        "    height=float(height)\n",
        "    output= width * height\n",
        "    print(output)"
      ],
      "execution_count": 0,
      "outputs": []
    },
    {
      "cell_type": "code",
      "metadata": {
        "id": "hwHZOUyYh26I",
        "colab_type": "code",
        "outputId": "2ddcbef7-5b8f-416a-83b6-d5cc6080c800",
        "colab": {
          "base_uri": "https://localhost:8080/",
          "height": 92
        }
      },
      "source": [
        "print('This Program is to calculate Size of Rectangle.')\n",
        "print('Enter width and height of your rectangle.(With no comma(,))')\n",
        "\n",
        "B=rectangle(B1,B2)\n",
        "B.SoR()"
      ],
      "execution_count": 298,
      "outputs": [
        {
          "output_type": "stream",
          "text": [
            "This Program is to calculate Size of Rectangle.\n",
            "Enter width and height of your rectangle.(With no comma(,))\n",
            "5 6\n",
            "30.0\n"
          ],
          "name": "stdout"
        }
      ]
    },
    {
      "cell_type": "code",
      "metadata": {
        "id": "_lfINUHciYj-",
        "colab_type": "code",
        "colab": {}
      },
      "source": [
        ""
      ],
      "execution_count": 0,
      "outputs": []
    }
  ]
}
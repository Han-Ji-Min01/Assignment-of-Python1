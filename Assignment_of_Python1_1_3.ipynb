{
  "nbformat": 4,
  "nbformat_minor": 0,
  "metadata": {
    "colab": {
      "name": "Assignment of Python1  1-3.ipynb",
      "provenance": [],
      "collapsed_sections": [],
      "authorship_tag": "ABX9TyPv6hsTHMHdqgiL6LjAzE8d",
      "include_colab_link": true
    },
    "kernelspec": {
      "name": "python3",
      "display_name": "Python 3"
    }
  },
  "cells": [
    {
      "cell_type": "markdown",
      "metadata": {
        "id": "view-in-github",
        "colab_type": "text"
      },
      "source": [
        "<a href=\"https://colab.research.google.com/github/Han-Ji-Min01/Assignment-of-Python1/blob/master/Assignment_of_Python1_1_3.ipynb\" target=\"_parent\"><img src=\"https://colab.research.google.com/assets/colab-badge.svg\" alt=\"Open In Colab\"/></a>"
      ]
    },
    {
      "cell_type": "code",
      "metadata": {
        "id": "3_Dyvvk8EBrL",
        "colab_type": "code",
        "outputId": "deae4e56-76dd-4fdc-8338-0cedb8aaa63d",
        "colab": {
          "base_uri": "https://localhost:8080/",
          "height": 35
        }
      },
      "source": [
        "# Assignment_1\n",
        "#1-1\n",
        "\n",
        "L1=['hello','[1,2,3]','True']\n",
        "type(L1)"
      ],
      "execution_count": 105,
      "outputs": [
        {
          "output_type": "execute_result",
          "data": {
            "text/plain": [
              "list"
            ]
          },
          "metadata": {
            "tags": []
          },
          "execution_count": 105
        }
      ]
    },
    {
      "cell_type": "code",
      "metadata": {
        "id": "63oSF1XLHmBE",
        "colab_type": "code",
        "outputId": "7494227e-15e2-4a68-d37d-4c62e3597980",
        "colab": {
          "base_uri": "https://localhost:8080/",
          "height": 35
        }
      },
      "source": [
        "#1-2\n",
        "L1[0]"
      ],
      "execution_count": 106,
      "outputs": [
        {
          "output_type": "execute_result",
          "data": {
            "text/plain": [
              "'hello'"
            ]
          },
          "metadata": {
            "tags": []
          },
          "execution_count": 106
        }
      ]
    },
    {
      "cell_type": "code",
      "metadata": {
        "id": "9LkxQ96WIThn",
        "colab_type": "code",
        "outputId": "a17269d0-a3b3-446d-d813-418f66db30c7",
        "colab": {
          "base_uri": "https://localhost:8080/",
          "height": 70
        }
      },
      "source": [
        "#1-3\n",
        "print('Index1:',L1[0])\n",
        "print('Index2:',L1[1])\n",
        "print('Index3:',L1[2])"
      ],
      "execution_count": 107,
      "outputs": [
        {
          "output_type": "stream",
          "text": [
            "Index1: hello\n",
            "Index2: [1,2,3]\n",
            "Index3: True\n"
          ],
          "name": "stdout"
        }
      ]
    },
    {
      "cell_type": "code",
      "metadata": {
        "id": "3U2EQTejTkyX",
        "colab_type": "code",
        "outputId": "c166df3c-f305-434a-fa71-ff056146d6e5",
        "colab": {
          "base_uri": "https://localhost:8080/",
          "height": 35
        }
      },
      "source": [
        "#1-4\n",
        "A=[1,'a']\n",
        "B=[2,1,'d']\n",
        "C=A+B\n",
        "print(C)\n"
      ],
      "execution_count": 108,
      "outputs": [
        {
          "output_type": "stream",
          "text": [
            "[1, 'a', 2, 1, 'd']\n"
          ],
          "name": "stdout"
        }
      ]
    },
    {
      "cell_type": "code",
      "metadata": {
        "id": "GMG3ZsBUWzgN",
        "colab_type": "code",
        "outputId": "6fd2b02d-4ac1-405f-af74-68bf2d63e702",
        "colab": {
          "base_uri": "https://localhost:8080/",
          "height": 35
        }
      },
      "source": [
        "#Assignment_2\n",
        "#2-0\n",
        "Dict = {\"Novel\":\"2014.04.07\", \"CRUMPLE\":\"2015.04.28\",\"MUGGLES'Mansion\":\"2017.02.28\",\"PEOPLE\":\"2020.04.02\"}\n",
        "type(Dict)"
      ],
      "execution_count": 109,
      "outputs": [
        {
          "output_type": "execute_result",
          "data": {
            "text/plain": [
              "dict"
            ]
          },
          "metadata": {
            "tags": []
          },
          "execution_count": 109
        }
      ]
    },
    {
      "cell_type": "code",
      "metadata": {
        "id": "T1BVezaD3l1z",
        "colab_type": "code",
        "outputId": "1f9850e0-2da4-4a10-f440-cec09b09046b",
        "colab": {
          "base_uri": "https://localhost:8080/",
          "height": 35
        }
      },
      "source": [
        "#2-1\n",
        "Dict_keys=Dict.keys()\n",
        "print(Dict_keys)"
      ],
      "execution_count": 110,
      "outputs": [
        {
          "output_type": "stream",
          "text": [
            "dict_keys(['Novel', 'CRUMPLE', \"MUGGLES'Mansion\", 'PEOPLE'])\n"
          ],
          "name": "stdout"
        }
      ]
    },
    {
      "cell_type": "code",
      "metadata": {
        "id": "5D4W0ZiH4CJd",
        "colab_type": "code",
        "outputId": "d706f4ae-9e7b-4ad9-ff43-7b46bf88e30c",
        "colab": {
          "base_uri": "https://localhost:8080/",
          "height": 35
        }
      },
      "source": [
        "#2-2\n",
        "Dict_values=Dict.values()\n",
        "print(Dict_values)"
      ],
      "execution_count": 111,
      "outputs": [
        {
          "output_type": "stream",
          "text": [
            "dict_values(['2014.04.07', '2015.04.28', '2017.02.28', '2020.04.02'])\n"
          ],
          "name": "stdout"
        }
      ]
    },
    {
      "cell_type": "code",
      "metadata": {
        "id": "eQLjo1khE4CA",
        "colab_type": "code",
        "colab": {}
      },
      "source": [
        "#Assignment_3\n",
        "#3-1\n",
        "LL=['rap','house','electronic music','rap']\n"
      ],
      "execution_count": 0,
      "outputs": []
    },
    {
      "cell_type": "code",
      "metadata": {
        "id": "nl_3nxL6GCat",
        "colab_type": "code",
        "colab": {}
      },
      "source": [
        "SS= set(LL)"
      ],
      "execution_count": 0,
      "outputs": []
    },
    {
      "cell_type": "code",
      "metadata": {
        "id": "TDTzN9K6SjSL",
        "colab_type": "code",
        "outputId": "b3296ca7-fce2-422e-8679-8e3b3266589c",
        "colab": {
          "base_uri": "https://localhost:8080/",
          "height": 88
        }
      },
      "source": [
        "#3-2\n",
        "A=[1,2,2,1] \n",
        "B=([1,2,2,1])\n",
        "B_=list(B)\n",
        "AA=A[0]+A[1]+A[2]+A[3]\n",
        "BB=B_[0]+B_[1]+B_[2]+B_[3]\n",
        "print(type(A))\n",
        "print(type(setB))\n",
        "print('sum(A):', AA)\n",
        "print('sum(B):', BB)"
      ],
      "execution_count": 113,
      "outputs": [
        {
          "output_type": "stream",
          "text": [
            "<class 'list'>\n",
            "<class 'set'>\n",
            "sum(A): 6\n",
            "sum(B): 6\n"
          ],
          "name": "stdout"
        }
      ]
    },
    {
      "cell_type": "code",
      "metadata": {
        "id": "ji6vzpbUGGaR",
        "colab_type": "code",
        "outputId": "b93888ee-beec-426d-8502-665e34a3bcce",
        "colab": {
          "base_uri": "https://localhost:8080/",
          "height": 35
        }
      },
      "source": [
        "#3-3\n",
        "set1= {'Thriller','AC/BC','Back in Black'}\n",
        "set2= {'AC/BC','Back in Black','The Dark Side of the Moon'}\n",
        "set3=set1.union(set2)\n",
        "print(set3)\n"
      ],
      "execution_count": 114,
      "outputs": [
        {
          "output_type": "stream",
          "text": [
            "{'AC/BC', 'Back in Black', 'Thriller', 'The Dark Side of the Moon'}\n"
          ],
          "name": "stdout"
        }
      ]
    },
    {
      "cell_type": "code",
      "metadata": {
        "id": "oPYBlY98dvuG",
        "colab_type": "code",
        "outputId": "99635e27-06ef-4d8e-9854-d08632acb075",
        "colab": {
          "base_uri": "https://localhost:8080/",
          "height": 35
        }
      },
      "source": [
        "#3-4\n",
        "set1.issubset(set3)"
      ],
      "execution_count": 115,
      "outputs": [
        {
          "output_type": "execute_result",
          "data": {
            "text/plain": [
              "True"
            ]
          },
          "metadata": {
            "tags": []
          },
          "execution_count": 115
        }
      ]
    },
    {
      "cell_type": "code",
      "metadata": {
        "id": "GQ40Su4heurh",
        "colab_type": "code",
        "outputId": "893b7682-8199-4fe0-d828-e3c0899f7a8a",
        "colab": {
          "base_uri": "https://localhost:8080/",
          "height": 70
        }
      },
      "source": [
        "#Assignment_4\n",
        "#4-1\n",
        "Dict_4 = {\"Name of Artist\":\"Michael\",\"Genre\":\"R&B\"}\n",
        "print('What is the Name of Artist do you want?')\n",
        "ans=input()\n",
        "if ans == \"Michael\":\n",
        "    print(Dict_4[\"Genre\"])\n",
        "else:\n",
        "  print('None')"
      ],
      "execution_count": 116,
      "outputs": [
        {
          "output_type": "stream",
          "text": [
            "What is the Name of Artist do you want?\n",
            "Michael\n",
            "R&B\n"
          ],
          "name": "stdout"
        }
      ]
    },
    {
      "cell_type": "code",
      "metadata": {
        "id": "Jeg0jRMhhSZl",
        "colab_type": "code",
        "outputId": "1696c011-349c-4236-edb4-81d75a84d35b",
        "colab": {
          "base_uri": "https://localhost:8080/",
          "height": 88
        }
      },
      "source": [
        "#4-2-1\n",
        "print('This is C,F convert program.')\n",
        "print('Please, enter your temperatures with C or F.(ex)26C, 47F)')\n",
        "ans=input()\n",
        "if ans[-1]=='C':\n",
        "  ansint=ans[:-1]\n",
        "  ansint=int(ansint)\n",
        "  ans_F= 1.8*ansint+32\n",
        "  print(ans_F,'F')\n",
        "elif ans[-1]=='F':\n",
        "  ansint=ans[:-1]\n",
        "  ansint=int(ansint)\n",
        "  ans_C=(ansint-32)/1.8\n",
        "  print(ans_C,'C')\n"
      ],
      "execution_count": 118,
      "outputs": [
        {
          "output_type": "stream",
          "text": [
            "This is C,F convert program.\n",
            "Please, enter your temperatures with C or F.(ex)26C, 47F)\n",
            "33C\n",
            "91.4 F\n"
          ],
          "name": "stdout"
        }
      ]
    },
    {
      "cell_type": "code",
      "metadata": {
        "id": "w7Beywyz9oy3",
        "colab_type": "code",
        "colab": {
          "base_uri": "https://localhost:8080/",
          "height": 52
        },
        "outputId": "0541669b-642e-489a-9a42-6ff4eeb11704"
      },
      "source": [
        "#4-2-2\n",
        "LA= [7,10,22,11,15,21,55,19,14]\n",
        "odd=[]\n",
        "even=[]\n",
        "c=0\n",
        "while c<9:\n",
        "  if LA[c]%2==1:\n",
        "   odd.append(LA[c])\n",
        "  else:\n",
        "    even.append(LA[c])\n",
        "  c=c+1\n",
        "\n",
        "print('Num of odd:',len(odd))\n",
        "print('Num of even:',len(even))\n"
      ],
      "execution_count": 122,
      "outputs": [
        {
          "output_type": "stream",
          "text": [
            "Num of odd: 6\n",
            "Num of even: 3\n"
          ],
          "name": "stdout"
        }
      ]
    },
    {
      "cell_type": "code",
      "metadata": {
        "id": "hPVjzDSRgpX8",
        "colab_type": "code",
        "colab": {
          "base_uri": "https://localhost:8080/",
          "height": 88
        },
        "outputId": "e59a824f-b02f-47dd-9dd8-124d1b9ece98"
      },
      "source": [
        "#4-2-3\n",
        "LA= [7,10,22,11,15,21,55,19,14]\n",
        "not_p=[]\n",
        "p=[]\n",
        "n=1\n",
        "A=[]\n",
        "B=[]\n",
        "n=int(n)\n",
        "\n",
        "while n<LA[0]:\n",
        "  n=n+1\n",
        "  if LA[0]%n==0:\n",
        "    A.append(0)\n",
        "    B.append(1)\n",
        "    break\n",
        "  if n==LA[0]-1:\n",
        "    A.append(1)\n",
        "    B.append(0)\n",
        "    break\n",
        "\n",
        "\n",
        "if A[0]==0:\n",
        "  not_p.append(LA[0])\n",
        "if B[0]==0:\n",
        "  p.append(LA[0])\n",
        "\n",
        "\n",
        "n=1 \n",
        "\n",
        "while n<LA[1]:\n",
        "  n=n+1\n",
        "  if LA[1]%n==0:\n",
        "    A.append(0)\n",
        "    B.append(1)\n",
        "    break\n",
        "  if n==LA[1]-1:\n",
        "    A.append(1)\n",
        "    B.append(0)\n",
        "    break\n",
        "\n",
        "\n",
        "if A[1]==0:\n",
        "  not_p.append(LA[1])\n",
        "if B[1]==0:\n",
        "  p.append(LA[1])\n",
        "\n",
        "\n",
        "n=1\n",
        "\n",
        "while n<LA[2]:\n",
        "  n=n+1\n",
        "  if LA[2]%n==0:\n",
        "    A.append(0)\n",
        "    B.append(1)\n",
        "    break\n",
        "  if n==LA[2]-1:\n",
        "    A.append(1)\n",
        "    B.append(0)\n",
        "    break\n",
        "\n",
        "\n",
        "if A[2]==0:\n",
        "  not_p.append(LA[2])\n",
        "else:\n",
        "  p.append(LA[2])\n",
        "\n",
        "n=1\n",
        "\n",
        "while n<LA[3]:\n",
        "  n=n+1\n",
        "  if LA[3]%n==0:\n",
        "    A.append(0)\n",
        "    B.append(1)\n",
        "    break\n",
        "  if n==LA[3]-1:\n",
        "    A.append(1)\n",
        "    B.append(0)\n",
        "    break\n",
        "\n",
        "\n",
        "if A[3]==0:\n",
        "  not_p.append(LA[3])\n",
        "else:\n",
        "  p.append(LA[3])\n",
        "\n",
        "\n",
        "n=1\n",
        "\n",
        "while n<LA[4]:\n",
        "  n=n+1\n",
        "  if LA[4]%n==0:\n",
        "    A.append(0)\n",
        "    B.append(1)\n",
        "    break\n",
        "  if n==LA[4]-1:\n",
        "    A.append(1)\n",
        "    B.append(0)\n",
        "    break\n",
        "\n",
        "\n",
        "if A[4]==0:\n",
        "  not_p.append(LA[4])\n",
        "else:\n",
        "  p.append(LA[4])\n",
        "\n",
        "n=1\n",
        "\n",
        "while n<LA[5]:\n",
        "  n=n+1\n",
        "  if LA[5]%n==0:\n",
        "    A.append(0)\n",
        "    B.append(1)\n",
        "    break\n",
        "  if n==LA[5]-1:\n",
        "    A.append(1)\n",
        "    B.append(0)\n",
        "    break\n",
        "\n",
        "\n",
        "if A[5]==0:\n",
        "  not_p.append(LA[5])\n",
        "else:\n",
        "  p.append(LA[5])\n",
        "\n",
        "\n",
        "n=1\n",
        "\n",
        "while n<LA[6]:\n",
        "  n=n+1\n",
        "  if LA[6]%n==0:\n",
        "    A.append(0)\n",
        "    B.append(1)\n",
        "    break\n",
        "  if n==LA[6]-1:\n",
        "    A.append(1)\n",
        "    B.append(0)\n",
        "    break\n",
        "\n",
        "\n",
        "if A[6]==0:\n",
        "  not_p.append(LA[6])\n",
        "else:\n",
        "  p.append(LA[6])\n",
        "\n",
        "n=1\n",
        "\n",
        "while n<LA[7]:\n",
        "  n=n+1\n",
        "  if LA[7]%n==0:\n",
        "    A.append(0)\n",
        "    B.append(1)\n",
        "    break\n",
        "  if n==LA[7]-1:\n",
        "    A.append(1)\n",
        "    B.append(0)\n",
        "    break\n",
        "\n",
        "\n",
        "if A[7]==0:\n",
        "  not_p.append(LA[7])\n",
        "else:\n",
        "  p.append(LA[7])\n",
        "\n",
        "\n",
        "n=1\n",
        "\n",
        "while n<LA[8]:\n",
        "  n=n+1\n",
        "  if LA[8]%n==0:\n",
        "    A.append(0)\n",
        "    B.append(1)\n",
        "    break\n",
        "  if n==LA[8]-1:\n",
        "    A.append(1)\n",
        "    B.append(0)\n",
        "    break\n",
        "\n",
        "\n",
        "if A[8]==0:\n",
        "  not_p.append(LA[8])\n",
        "else:\n",
        "  p.append(LA[8])\n",
        "print(not_p)\n",
        "print(p)\n",
        "print('Not Prime:',len(not_p))\n",
        "print('Prime:',len(p))"
      ],
      "execution_count": 121,
      "outputs": [
        {
          "output_type": "stream",
          "text": [
            "[10, 22, 15, 21, 55, 14]\n",
            "[7, 11, 19]\n",
            "Not Prime: 6\n",
            "Prime: 3\n"
          ],
          "name": "stdout"
        }
      ]
    },
    {
      "cell_type": "code",
      "metadata": {
        "id": "FLMtAH-Fxkrg",
        "colab_type": "code",
        "colab": {}
      },
      "source": [
        ""
      ],
      "execution_count": 0,
      "outputs": []
    }
  ]
}